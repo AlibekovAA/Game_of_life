{
 "cells": [
  {
   "cell_type": "code",
   "execution_count": 1,
   "id": "773362ce",
   "metadata": {},
   "outputs": [],
   "source": [
    "import tkinter as tk\n",
    "import copy\n",
    "from tkinter import messagebox\n",
    "import random"
   ]
  },
  {
   "cell_type": "code",
   "execution_count": 2,
   "id": "7f4137ca",
   "metadata": {},
   "outputs": [],
   "source": [
    "WIDTH, HEIGHT = 400, 400\n",
    "CELL_SIZE = 10\n",
    "GRID_WIDTH = WIDTH // CELL_SIZE\n",
    "GRID_HEIGHT = HEIGHT // CELL_SIZE"
   ]
  },
  {
   "cell_type": "code",
   "execution_count": 3,
   "id": "2027c5e4",
   "metadata": {},
   "outputs": [],
   "source": [
    "grid = [[0 for _ in range(GRID_WIDTH)] for _ in range(GRID_HEIGHT)]\n",
    "game_started = False\n",
    "prev_grid = copy.deepcopy(grid)\n",
    "prev_prev_grid = copy.deepcopy(grid)"
   ]
  },
  {
   "cell_type": "code",
   "execution_count": 4,
   "id": "31f67c74",
   "metadata": {},
   "outputs": [],
   "source": [
    "def draw_grid():\n",
    "    canvas.delete(\"all\")\n",
    "    for y in range(GRID_HEIGHT):\n",
    "        for x in range(GRID_WIDTH):\n",
    "            if grid[y][x]:\n",
    "                canvas.create_rectangle(\n",
    "                    x * CELL_SIZE, y * CELL_SIZE,\n",
    "                    (x + 1) * CELL_SIZE, (y + 1) * CELL_SIZE,\n",
    "                    fill=\"green\"\n",
    "                )\n",
    "generation_count = 0"
   ]
  },
  {
   "cell_type": "code",
   "execution_count": 5,
   "id": "294efbb1",
   "metadata": {},
   "outputs": [],
   "source": [
    "def update_generation_count_label():\n",
    "    global generation_count\n",
    "    generation_count += 1\n",
    "    generation_label.config(text=f\"Поколение: {generation_count}\")"
   ]
  },
  {
   "cell_type": "code",
   "execution_count": 6,
   "id": "b364416d",
   "metadata": {},
   "outputs": [],
   "source": [
    "def toggle_cell(event):\n",
    "    x = event.x // CELL_SIZE\n",
    "    y = event.y // CELL_SIZE\n",
    "    if 0 <= x < GRID_WIDTH and 0 <= y < GRID_HEIGHT:\n",
    "        grid[y][x] = 1 - grid[y][x]\n",
    "        draw_grid()"
   ]
  },
  {
   "cell_type": "code",
   "execution_count": 7,
   "id": "10e5c18f",
   "metadata": {},
   "outputs": [],
   "source": [
    "def place_glider():\n",
    "    if not game_started:\n",
    "        clear_grid()\n",
    "        glider = [\n",
    "            [0, 1, 0],\n",
    "            [0, 0, 1],\n",
    "            [1, 1, 1]\n",
    "        ]\n",
    "        for y in range(len(glider)):\n",
    "            for x in range(len(glider[0])):\n",
    "                grid[y][x] = glider[y][x]\n",
    "        draw_grid()"
   ]
  },
  {
   "cell_type": "code",
   "execution_count": 8,
   "id": "12a3cd38",
   "metadata": {},
   "outputs": [],
   "source": [
    "def start_game():\n",
    "    global game_started, prev_grid, prev_prev_grid\n",
    "    game_started = True\n",
    "    start_button.config(state=\"disabled\")\n",
    "    stop_button.config(state=\"normal\")\n",
    "    clear_button.config(state=\"disabled\")\n",
    "    prev_grid = copy.deepcopy(grid)\n",
    "    prev_prev_grid = copy.deepcopy(grid)\n",
    "    step()"
   ]
  },
  {
   "cell_type": "code",
   "execution_count": 9,
   "id": "0267fa5c",
   "metadata": {},
   "outputs": [],
   "source": [
    "def stop_game():\n",
    "    global game_started\n",
    "    game_started = False\n",
    "    start_button.config(state=\"normal\")\n",
    "    stop_button.config(state=\"disabled\")\n",
    "    clear_button.config(state=\"normal\")\n",
    "    if check_cells_dead():\n",
    "        messagebox.showinfo(\"Игра завершена\", \"Игра завершена. Все клетки умерли.\")\n",
    "    elif is_cycle_detected():\n",
    "        messagebox.showinfo(\"Игра завершена\", \"Игра завершена. Клетки зациклились.\")"
   ]
  },
  {
   "cell_type": "code",
   "execution_count": 10,
   "id": "fce0c417",
   "metadata": {},
   "outputs": [],
   "source": [
    "def clear_grid():\n",
    "    global grid, generation_count\n",
    "    if not game_started:\n",
    "        grid = [[0 for _ in range(GRID_WIDTH)] for _ in range(GRID_HEIGHT)]\n",
    "        draw_grid()\n",
    "        generation_count = 0\n",
    "        generation_label.config(text=f\"Поколение: {generation_count}\")\n"
   ]
  },
  {
   "cell_type": "code",
   "execution_count": 11,
   "id": "e317172a",
   "metadata": {},
   "outputs": [],
   "source": [
    "def randomize_grid():\n",
    "    global grid\n",
    "    if not game_started:\n",
    "        grid = [[random.randint(0, 1) for _ in range(GRID_WIDTH)] for _ in range(GRID_HEIGHT)]\n",
    "        draw_grid()"
   ]
  },
  {
   "cell_type": "code",
   "execution_count": 12,
   "id": "1a314e14",
   "metadata": {},
   "outputs": [],
   "source": [
    "def is_game_over():\n",
    "    return grid == prev_grid"
   ]
  },
  {
   "cell_type": "code",
   "execution_count": 13,
   "id": "e67d93b3",
   "metadata": {},
   "outputs": [],
   "source": [
    "def is_cycle_detected():\n",
    "    return grid == prev_prev_grid"
   ]
  },
  {
   "cell_type": "code",
   "execution_count": 14,
   "id": "7834b7d8",
   "metadata": {},
   "outputs": [],
   "source": [
    "def check_cells_dead():\n",
    "    return not any(cell for row in grid for cell in row)"
   ]
  },
  {
   "cell_type": "code",
   "execution_count": 15,
   "id": "15a2002c",
   "metadata": {},
   "outputs": [],
   "source": [
    "def step():\n",
    "    global grid, prev_grid, prev_prev_grid\n",
    "    if game_started:\n",
    "        new_grid = [[0 for _ in range(GRID_WIDTH)] for _ in range(GRID_HEIGHT)]\n",
    "        for y in range(GRID_HEIGHT):\n",
    "            for x in range(GRID_WIDTH):\n",
    "                neighbors = 0\n",
    "                for dx in [-1, 0, 1]:\n",
    "                    for dy in [-1, 0, 1]:\n",
    "                        if dx == 0 and dy == 0:\n",
    "                            continue\n",
    "                        nx, ny = x + dx, y + dy\n",
    "                        if 0 <= nx < GRID_WIDTH and 0 <= ny < GRID_HEIGHT and grid[ny][nx]:\n",
    "                            neighbors += 1\n",
    "                if grid[y][x] == 1 and (neighbors < 2 or neighbors > 3):\n",
    "                    new_grid[y][x] = 0\n",
    "                elif grid[y][x] == 0 and neighbors == 3:\n",
    "                    new_grid[y][x] = 1\n",
    "                else:\n",
    "                    new_grid[y][x] = grid[y][x]\n",
    "        prev_prev_grid = copy.deepcopy(prev_grid)\n",
    "        prev_grid = copy.deepcopy(grid)\n",
    "        grid = new_grid\n",
    "        draw_grid()\n",
    "        update_generation_count_label()\n",
    "        if is_cycle_detected() or check_cells_dead():\n",
    "            stop_game()\n",
    "        else:\n",
    "            root.after(100, step)"
   ]
  },
  {
   "cell_type": "code",
   "execution_count": 16,
   "id": "26f0b9ef",
   "metadata": {},
   "outputs": [],
   "source": [
    "def show_about_info():\n",
    "    about_info = \"\"\"\n",
    "    Игра \"Жизнь\" на Python с использованием Tkinter.\n",
    "    Автор: Алибеков Аслан\n",
    "    Год: 2023\n",
    "    \"\"\"\n",
    "    messagebox.showinfo(\"О программе\", about_info)"
   ]
  },
  {
   "cell_type": "code",
   "execution_count": 17,
   "id": "586cc533",
   "metadata": {},
   "outputs": [],
   "source": [
    "def show_placement_buttons():\n",
    "    placement_window = tk.Toplevel(root)\n",
    "    placement_window.title(\"Выберите размещение\")\n",
    "\n",
    "    glider_button = tk.Button(placement_window, text=\"Глайдер\", command=place_glider, font=(\"Helvetica\", 10))\n",
    "    glider_button.pack()"
   ]
  },
  {
   "cell_type": "code",
   "execution_count": 18,
   "id": "fc08ab7c",
   "metadata": {},
   "outputs": [],
   "source": [
    "root = tk.Tk()\n",
    "root.title(\"Игра 'Жизнь'\")\n",
    "root.geometry(\"500x500\")\n",
    "\n",
    "menu = tk.Menu(root)\n",
    "root.config(menu=menu)\n",
    "\n",
    "help_menu = tk.Menu(menu, tearoff=0)\n",
    "menu.add_cascade(label=\"Справка\", menu=help_menu)\n",
    "help_menu.add_command(label=\"О программе\", command=show_about_info)\n",
    "\n",
    "frame = tk.Frame(root)\n",
    "frame.pack()\n",
    "\n",
    "canvas = tk.Canvas(frame, width=WIDTH, height=HEIGHT, bg=\"white\")\n",
    "canvas.pack()\n",
    "\n",
    "canvas.bind(\"<Button-1>\", toggle_cell)\n",
    "\n",
    "button_frame = tk.Frame(root)\n",
    "button_frame.pack()\n",
    "\n",
    "start_button = tk.Button(button_frame, text=\"Старт\", command=start_game, font=(\"Helvetica\", 10))\n",
    "start_button.pack(side=\"left\")\n",
    "\n",
    "stop_button = tk.Button(button_frame, text=\"Стоп\", command=stop_game, state=\"disabled\", font=(\"Helvetica\", 10))\n",
    "stop_button.pack(side=\"left\")\n",
    "\n",
    "clear_button = tk.Button(button_frame, text=\"Очистить поле\", command=clear_grid, font=(\"Helvetica\", 10))\n",
    "clear_button.pack(side=\"left\")\n",
    "\n",
    "random_button = tk.Button(button_frame, text=\"Случайное заполнение\", command=randomize_grid, font=(\"Helvetica\", 10))\n",
    "random_button.pack(side=\"left\")\n",
    "\n",
    "placement_menu_button = tk.Button(button_frame, text=\"Размещение\", command=show_placement_buttons, font=(\"Helvetica\", 10))\n",
    "placement_menu_button.pack(side=\"left\")\n",
    "\n",
    "generation_label = tk.Label(root, text=\"Поколение: 0\", font=(\"Helvetica\", 10))\n",
    "generation_label.pack()\n",
    "\n",
    "button_frame.place(relx=0.5, rely=0.9, anchor=\"s\")\n",
    "\n",
    "root.mainloop()"
   ]
  },
  {
   "cell_type": "code",
   "execution_count": null,
   "id": "02afba68",
   "metadata": {},
   "outputs": [],
   "source": []
  }
 ],
 "metadata": {
  "kernelspec": {
   "display_name": "Python 3 (ipykernel)",
   "language": "python",
   "name": "python3"
  },
  "language_info": {
   "codemirror_mode": {
    "name": "ipython",
    "version": 3
   },
   "file_extension": ".py",
   "mimetype": "text/x-python",
   "name": "python",
   "nbconvert_exporter": "python",
   "pygments_lexer": "ipython3",
   "version": "3.10.9"
  }
 },
 "nbformat": 4,
 "nbformat_minor": 5
}
